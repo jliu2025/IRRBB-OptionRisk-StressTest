{
 "cells": [
  {
   "cell_type": "code",
   "execution_count": 45,
   "metadata": {},
   "outputs": [
    {
     "name": "stdout",
     "output_type": "stream",
     "text": [
      "Type\n",
      "Deposit    55603572\n",
      "Loan       47466902\n",
      "Name: Balance, dtype: int64\n"
     ]
    }
   ],
   "source": [
    "import pandas as pd\n",
    "import numpy as np\n",
    "\n",
    "np.random.seed(1)\n",
    "products = [\n",
    "    # Loans\n",
    "    (\"Loan\", \"Mortgage\", 50, 0.05, (200000, 900000), (15, 30), \"Fixed\"),     # 5% avg\n",
    "    (\"Loan\", \"Loan\", 25, 0.07, (300000, 1000000), (3, 15), \"Fixed\"),         # 7% avg\n",
    "    (\"Loan\", \"HELOC\", 15, 0.06, (50000, 300000), (3, 10), \"Floating\"),       # 6% avg\n",
    "    (\"Loan\", \"Auto_Loan\", 10, 0.07, (20000, 80000), (3, 5), \"Fixed\"),        # 7% avg\n",
    "\n",
    "    # Deposits\n",
    "    (\"Deposit\", \"Savings_Account\", 400, 0.025, (3000, 50000), None, \"Floating\"),  # 2.5% avg\n",
    "    (\"Deposit\", \"Chequing_Account\", 300, 0.001, (1000, 20000), None, \"Floating\"),  # 0.1%\n",
    "    (\"Deposit\", \"GIC\", 200, 0.045, (5000, 300000), (1, 5), \"Fixed\"),             # 4.5% avg\n",
    "    (\"Deposit\", \"HISA\", 100, 0.045, (10000, 200000), None, \"Floating\")           # 4.5% avg\n",
    "]\n",
    "\n",
    "\n",
    "nmd_products = {\"Chequing_Account\", \"Savings_Account\", \"HISA\"}\n",
    "\n",
    "records = []\n",
    "id_counter = 1\n",
    "for prod_type, prod_name, count, base_rate, bal_range, mat_range, rate_type in products:\n",
    "    for i in range(count):\n",
    "        rate = round(max(0,base_rate + np.random.uniform(low=-0.005, high=0.005)),4)\n",
    "\n",
    "        balance = np.random.randint(*bal_range)\n",
    "\n",
    "        # Generate maturity (None for NMDs)\n",
    "        if mat_range is None:\n",
    "            maturity = None\n",
    "        else:\n",
    "            maturity = np.random.randint(*mat_range)\n",
    "\n",
    "        records.append({\n",
    "            \"ID\": prod_name + \"_\" + str(id_counter),\n",
    "            \"Type\": prod_type,\n",
    "            \"Product_Type\": prod_name,\n",
    "            \"Balance\": balance,\n",
    "            \"Rate\": rate,\n",
    "            \"Maturity_Years\": maturity,\n",
    "            \"Rate_Type\": rate_type\n",
    "        })\n",
    "        id_counter += 1\n",
    "\n",
    "\n",
    "df = pd.DataFrame(records)\n",
    "\n",
    "\n",
    "\n",
    "print(df.groupby(\"Type\")['Balance'].sum())\n",
    "\n",
    "\n",
    "df.to_csv(\"Balance_sheet.csv\", index=False)"
   ]
  },
  {
   "cell_type": "code",
   "execution_count": null,
   "metadata": {},
   "outputs": [],
   "source": []
  }
 ],
 "metadata": {
  "kernelspec": {
   "display_name": "Python 3",
   "language": "python",
   "name": "python3"
  },
  "language_info": {
   "codemirror_mode": {
    "name": "ipython",
    "version": 3
   },
   "file_extension": ".py",
   "mimetype": "text/x-python",
   "name": "python",
   "nbconvert_exporter": "python",
   "pygments_lexer": "ipython3",
   "version": "3.7.9"
  }
 },
 "nbformat": 4,
 "nbformat_minor": 5
}
